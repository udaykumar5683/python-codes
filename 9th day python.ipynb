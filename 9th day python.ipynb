{
 "cells": [
  {
   "cell_type": "code",
   "execution_count": 9,
   "id": "3107d34f-98bd-4401-a346-b3076455ef64",
   "metadata": {},
   "outputs": [
    {
     "name": "stdin",
     "output_type": "stream",
     "text": [
      " 4\n"
     ]
    },
    {
     "name": "stdout",
     "output_type": "stream",
     "text": [
      "24\n"
     ]
    }
   ],
   "source": [
    "a=int(input())\n",
    "fac=1\n",
    "for i in range(a,1,-1):\n",
    "    fac=i*fac\n",
    "\n",
    "print(fac)"
   ]
  },
  {
   "cell_type": "code",
   "execution_count": null,
   "id": "3fec61aa-3f37-4ac2-a779-d5c7cbc48d29",
   "metadata": {},
   "outputs": [],
   "source": [
    "def fac(n):\n",
    "    if i==1:\n",
    "        return 1\n",
    "    else:\n",
    "        return i*fac(n-1)\n",
    "\n",
    "print(fac(int(input(' '))))\n",
    "    "
   ]
  },
  {
   "cell_type": "code",
   "execution_count": 10,
   "id": "2ff8e8c5-5e3b-4b59-a838-16846bc3011a",
   "metadata": {},
   "outputs": [
    {
     "name": "stdin",
     "output_type": "stream",
     "text": [
      "enter limit: 4\n"
     ]
    },
    {
     "name": "stdout",
     "output_type": "stream",
     "text": [
      "0 1 1 2 "
     ]
    }
   ],
   "source": [
    "limit=int(input(\"enter limit:\"))\n",
    "a=0;\n",
    "b=1;\n",
    "print(a,b,end=\" \")\n",
    "\n",
    "for i in range(0,limit-2):\n",
    "    c=a+b\n",
    "    print(c,end=\" \")\n",
    "    a=b\n",
    "    b=c"
   ]
  },
  {
   "cell_type": "code",
   "execution_count": 8,
   "id": "060cb108-50ba-4718-baff-ac96ad9345ec",
   "metadata": {},
   "outputs": [
    {
     "name": "stdin",
     "output_type": "stream",
     "text": [
      " 6\n"
     ]
    },
    {
     "name": "stdout",
     "output_type": "stream",
     "text": [
      "0\n",
      "1\n",
      "1\n",
      "2\n",
      "3\n",
      "5\n"
     ]
    }
   ],
   "source": [
    "def fib(i):\n",
    "    if i==0 or i==1:\n",
    "        return i\n",
    "    else:\n",
    "        return (fib(i-1)+(fib(i-2)))\n",
    "\n",
    "for i in range(0, int(input())):\n",
    "    print(fib(i))\n",
    "    "
   ]
  },
  {
   "cell_type": "code",
   "execution_count": 3,
   "id": "fdaf244b-e976-4de2-bc0c-5a960ccca3fa",
   "metadata": {},
   "outputs": [
    {
     "name": "stdout",
     "output_type": "stream",
     "text": [
      "[1, 2, 3, 4, 5, 6, 7, 8, 9]\n"
     ]
    }
   ],
   "source": [
    "\n",
    "\n",
    "def findpi(ar,low,high):\n",
    "    pe=ar[high]\n",
    "    j=low-1\n",
    "    for i in range(low,high):\n",
    "        if pe>ar[i]:\n",
    "            j+=1\n",
    "            ar[i],ar[j]=ar[j],ar[i]\n",
    "    ar[high],ar[j+1]=ar[j+1],ar[high]\n",
    "    return j+1\n",
    "\n",
    "def quicksort(ar,low,high):\n",
    "    if low<high:\n",
    "        pi=findpi(ar,low,high)\n",
    "        quicksort(ar,low,pi-1)\n",
    "        quicksort(ar,pi+1,high)\n",
    "\n",
    "ar=[5,7,3,1,9,2,4,6,8]\n",
    "quicksort(ar,0,len(ar)-1)\n",
    "print(ar)"
   ]
  },
  {
   "cell_type": "code",
   "execution_count": 17,
   "id": "96f44bcf-cbee-4491-a1c0-c969d0fa3f42",
   "metadata": {},
   "outputs": [
    {
     "name": "stdout",
     "output_type": "stream",
     "text": [
      "<__main__.node object at 0x00000216ECCE2DB0> apple\n",
      "<__main__.node object at 0x00000216ECCCFBC0> ball\n",
      "<__main__.node object at 0x00000216ECCCF800> cat\n"
     ]
    }
   ],
   "source": [
    "class node:\n",
    "    def __init__(self,value):\n",
    "        self.data=value\n",
    "        self.next= None\n",
    "\n",
    "a=node(\"apple\")\n",
    "b=node(\"ball\")\n",
    "c=node(\"cat\")\n",
    "\n",
    "head=a\n",
    "head.next=b\n",
    "head.next.next=c\n",
    "\n",
    "print(head,head.data)\n",
    "print(b,head.next.data)\n",
    "print(c,head.next.next.data)\n"
   ]
  },
  {
   "cell_type": "code",
   "execution_count": 24,
   "id": "95c415f9-14ce-4efd-8d98-646761071aae",
   "metadata": {},
   "outputs": [
    {
     "name": "stdout",
     "output_type": "stream",
     "text": [
      "<__main__.node object at 0x00000216ECCB6A20> aaaa 1\n",
      "<__main__.node object at 0x00000216ECCB7350> bbbb 2\n",
      "<__main__.node object at 0x00000216ECCB6930> cccc 3\n",
      "<__main__.node object at 0x00000216ECCB5A00> dddd 4\n",
      "<__main__.node object at 0x00000216ECCB6DB0> eeee 5\n"
     ]
    }
   ],
   "source": [
    "class node:\n",
    "    def __init__(self,name,usn):\n",
    "        self.name=name\n",
    "        self.usn=usn\n",
    "        self.next=None\n",
    "\n",
    "a=node(\"aaaa\",1)\n",
    "b=node(\"bbbb\",2)\n",
    "c=node(\"cccc\",3)\n",
    "d=node(\"dddd\",4)\n",
    "e=node(\"eeee\",5)\n",
    "\n",
    "head=a\n",
    "head.next=b\n",
    "head.next.next=c\n",
    "head.next.next.next=d\n",
    "head.next.next.next.next=e\n",
    "\n",
    "print(a,head.name,head.usn)\n",
    "print(b,head.next.name,head.next.usn)\n",
    "print(c,head.next.next.name,head.next.next.usn)\n",
    "print(d,head.next.next.next.name,head.next.next.next.usn)\n",
    "print(e,head.next.next.next.next.name,head.next.next.next.next.usn)\n"
   ]
  },
  {
   "cell_type": "code",
   "execution_count": 6,
   "id": "d4b4d669-d42e-4a7a-bcaf-8b91924a464f",
   "metadata": {},
   "outputs": [
    {
     "name": "stdout",
     "output_type": "stream",
     "text": [
      "11\n"
     ]
    }
   ],
   "source": [
    "print(5+2*3)\n"
   ]
  },
  {
   "cell_type": "code",
   "execution_count": 3,
   "id": "3d3e0072-a8b0-487a-89aa-ed55aa49871e",
   "metadata": {},
   "outputs": [
    {
     "name": "stdout",
     "output_type": "stream",
     "text": [
      "2\n"
     ]
    }
   ],
   "source": [
    "print (int(5/2))"
   ]
  },
  {
   "cell_type": "code",
   "execution_count": null,
   "id": "e2848bb2-0ffe-4f51-a6b9-a841c3cf34db",
   "metadata": {},
   "outputs": [],
   "source": []
  }
 ],
 "metadata": {
  "kernelspec": {
   "display_name": "Python 3 (ipykernel)",
   "language": "python",
   "name": "python3"
  },
  "language_info": {
   "codemirror_mode": {
    "name": "ipython",
    "version": 3
   },
   "file_extension": ".py",
   "mimetype": "text/x-python",
   "name": "python",
   "nbconvert_exporter": "python",
   "pygments_lexer": "ipython3",
   "version": "3.12.3"
  }
 },
 "nbformat": 4,
 "nbformat_minor": 5
}
