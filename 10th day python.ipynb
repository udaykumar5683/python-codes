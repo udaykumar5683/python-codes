{
 "cells": [
  {
   "cell_type": "code",
   "execution_count": 5,
   "id": "4a7daad4-8d31-4198-bc3f-a1c5fd25bc2d",
   "metadata": {},
   "outputs": [
    {
     "name": "stdin",
     "output_type": "stream",
     "text": [
      "enter the node to be inserted at first: 0\n"
     ]
    },
    {
     "name": "stdout",
     "output_type": "stream",
     "text": [
      "0\n",
      "1\n",
      "2\n",
      "3\n"
     ]
    },
    {
     "name": "stdin",
     "output_type": "stream",
     "text": [
      "enter the node: 1\n"
     ]
    },
    {
     "name": "stdout",
     "output_type": "stream",
     "text": [
      "0\n",
      "1\n",
      "2\n",
      "3\n",
      "1\n"
     ]
    },
    {
     "name": "stdin",
     "output_type": "stream",
     "text": [
      "Enter the position:  3\n",
      "Enter the data:  9\n"
     ]
    },
    {
     "name": "stdout",
     "output_type": "stream",
     "text": [
      "0\n",
      "1\n",
      "9\n",
      "2\n",
      "3\n",
      "1\n"
     ]
    }
   ],
   "source": [
    "class node():\n",
    "    def __init__ (self,data):\n",
    "        self.data=data\n",
    "        self.next=None\n",
    "\n",
    "head=node(1)\n",
    "head.next=node(2)\n",
    "head.next.next=node(3)\n",
    "\n",
    "def printdetails(): \n",
    "    current = head\n",
    "    while current is not None:\n",
    "        print(current.data)\n",
    "        current = current.next\n",
    "def insert():\n",
    "    global head\n",
    "    x=input(\"enter the node to be inserted at first:\")\n",
    "    temp=node(x)\n",
    "    temp.next=head\n",
    "    head=temp\n",
    "    printdetails()\n",
    "\n",
    "def endinsert():\n",
    "    global head\n",
    "    y=input(\"enter the node:\")\n",
    "    temp=node(y)\n",
    "    curr=head\n",
    "    \n",
    "    if curr==None:\n",
    "        head=temp\n",
    "    else:\n",
    "        while curr.next!=None:\n",
    "            curr=curr.next\n",
    "        curr.next=temp\n",
    "        printdetails()\n",
    "   \n",
    "def insertatposition():\n",
    "    global head\n",
    "    position = int(input(\"Enter the position: \")) \n",
    "    data = input(\"Enter the data: \")\n",
    "    temp = node(data)\n",
    "    if head is None: \n",
    "        head = temp\n",
    "    elif position == 1:  \n",
    "        temp.next = head\n",
    "        head = temp\n",
    "    else:\n",
    "        curr = head\n",
    "        prev = None\n",
    "        count = 1\n",
    "        while curr is not None and count < position:\n",
    "            prev = curr\n",
    "            curr = curr.next\n",
    "            count += 1\n",
    "        if curr is None:  \n",
    "            print(\"Position exceeds the length of the list.\")\n",
    "            return\n",
    "        temp.next = curr\n",
    "        prev.next = temp\n",
    "    printdetails()\n",
    "\n",
    "\n",
    "    \n",
    "\n",
    "insert()\n",
    "endinsert()\n",
    "insertatposition()\n",
    "\n",
    "\n",
    "            \n"
   ]
  },
  {
   "cell_type": "code",
   "execution_count": 17,
   "id": "008f57cc-a398-4fc8-b6b5-1a7defd3a7ca",
   "metadata": {},
   "outputs": [
    {
     "ename": "AttributeError",
     "evalue": "'int' object has no attribute 'data'",
     "output_type": "error",
     "traceback": [
      "\u001b[1;31m---------------------------------------------------------------------------\u001b[0m",
      "\u001b[1;31mAttributeError\u001b[0m                            Traceback (most recent call last)",
      "Cell \u001b[1;32mIn[17], line 39\u001b[0m\n\u001b[0;32m     36\u001b[0m root\u001b[38;5;241m.\u001b[39mright\u001b[38;5;241m.\u001b[39mleft\u001b[38;5;241m=\u001b[39mnode(\u001b[38;5;241m6\u001b[39m)\n\u001b[0;32m     37\u001b[0m root\u001b[38;5;241m.\u001b[39mright\u001b[38;5;241m.\u001b[39mright\u001b[38;5;241m=\u001b[39mnode(\u001b[38;5;241m7\u001b[39m)\n\u001b[1;32m---> 39\u001b[0m \u001b[43mpreorder\u001b[49m\u001b[43m(\u001b[49m\u001b[38;5;241;43m1\u001b[39;49m\u001b[43m)\u001b[49m\n\u001b[0;32m     40\u001b[0m inorder(\u001b[38;5;241m1\u001b[39m)\n\u001b[0;32m     41\u001b[0m postorder(\u001b[38;5;241m1\u001b[39m)\n",
      "Cell \u001b[1;32mIn[13], line 9\u001b[0m, in \u001b[0;36mpreorder\u001b[1;34m(root)\u001b[0m\n\u001b[0;32m      7\u001b[0m \u001b[38;5;28;01mif\u001b[39;00m root\u001b[38;5;241m==\u001b[39m\u001b[38;5;28;01mNone\u001b[39;00m:\n\u001b[0;32m      8\u001b[0m     \u001b[38;5;28;01mreturn\u001b[39;00m\n\u001b[1;32m----> 9\u001b[0m \u001b[38;5;28mprint\u001b[39m(\u001b[43mroot\u001b[49m\u001b[38;5;241;43m.\u001b[39;49m\u001b[43mdata\u001b[49m)\n\u001b[0;32m     10\u001b[0m preorder(root\u001b[38;5;241m.\u001b[39mleft)\n\u001b[0;32m     11\u001b[0m preorder(root\u001b[38;5;241m.\u001b[39mright)\n",
      "\u001b[1;31mAttributeError\u001b[0m: 'int' object has no attribute 'data'"
     ]
    }
   ],
   "source": [
    "class node:\n",
    "    def __init__ (self,value):\n",
    "        self.data=value\n",
    "        self.left=None\n",
    "        self.right=None\n",
    "\n",
    "\n",
    "    def preorder(root):\n",
    "        if root==None:\n",
    "            return\n",
    "        print(root.data)\n",
    "        preorder(root.left)\n",
    "        preorder(root.right)\n",
    "\n",
    "    def inorder(root):\n",
    "        if root==None:\n",
    "            return\n",
    "        inorder(root.left)\n",
    "        print(root.data)\n",
    "        inorder(root.right)\n",
    "\n",
    "    def postorder(root):\n",
    "        if root==None:\n",
    "            return\n",
    "        postorder(root.left)\n",
    "        posrorder(root.right)\n",
    "        print(root.data)\n",
    "    \n",
    "root = node(1)\n",
    "root.left=node(2)\n",
    "root.right=node(3)\n",
    "\n",
    "root.left.left=node(4)\n",
    "root.left.right=node(5)\n",
    "\n",
    "root.right.left=node(6)\n",
    "root.right.right=node(7)\n",
    "\n",
    "preorder(1)\n",
    "inorder(1)\n",
    "postorder(1)\n",
    "\n"
   ]
  },
  {
   "cell_type": "code",
   "execution_count": 9,
   "id": "161a2af9-acc0-485f-972f-822fd7fa1c34",
   "metadata": {},
   "outputs": [
    {
     "name": "stdout",
     "output_type": "stream",
     "text": [
      "1\n",
      "2\n",
      "4\n",
      "5\n",
      "3\n",
      "6\n",
      "7\n",
      "4\n",
      "2\n",
      "5\n",
      "1\n",
      "6\n",
      "3\n",
      "7\n",
      "4\n",
      "5\n",
      "2\n",
      "6\n",
      "7\n",
      "3\n",
      "1\n"
     ]
    }
   ],
   "source": [
    "class node:\n",
    "    def __init__(self, value):\n",
    "        self.data = value\n",
    "        self.left = None\n",
    "        self.right = None\n",
    "\n",
    "    def preorder(self, root):\n",
    "        if root == None:\n",
    "            return\n",
    "        print(root.data)\n",
    "        self.preorder(root.left)\n",
    "        self.preorder(root.right)\n",
    "\n",
    "    def inorder(self, root):\n",
    "        if root == None:\n",
    "            return\n",
    "        self.inorder(root.left)\n",
    "        print(root.data)\n",
    "        self.inorder(root.right)\n",
    "\n",
    "    def postorder(self, root):\n",
    "        if root == None:\n",
    "            return\n",
    "        self.postorder(root.left)\n",
    "        self.postorder(root.right)\n",
    "        print(root.data)\n",
    "\n",
    "root = node(1)\n",
    "root.left = node(2)\n",
    "root.right = node(3)\n",
    "\n",
    "root.left.left = node(4)\n",
    "root.left.right = node(5)\n",
    "\n",
    "root.right.left = node(6)\n",
    "root.right.right = node(7)\n",
    "\n",
    "[root.preorder(root),\"end\" \"\"]\n",
    "root.inorder(root)\n",
    "root.postorder(root)\n",
    "\n"
   ]
  },
  {
   "cell_type": "code",
   "execution_count": null,
   "id": "d2c8b5c0-640b-46ea-aabe-2430c36023d7",
   "metadata": {},
   "outputs": [],
   "source": []
  }
 ],
 "metadata": {
  "kernelspec": {
   "display_name": "Python 3 (ipykernel)",
   "language": "python",
   "name": "python3"
  },
  "language_info": {
   "codemirror_mode": {
    "name": "ipython",
    "version": 3
   },
   "file_extension": ".py",
   "mimetype": "text/x-python",
   "name": "python",
   "nbconvert_exporter": "python",
   "pygments_lexer": "ipython3",
   "version": "3.12.3"
  }
 },
 "nbformat": 4,
 "nbformat_minor": 5
}
