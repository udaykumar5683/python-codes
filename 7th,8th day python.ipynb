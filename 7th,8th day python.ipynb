{
 "cells": [
  {
   "cell_type": "code",
   "execution_count": 55,
   "id": "be19dfce-e730-470e-b6bd-c88346f25c0a",
   "metadata": {},
   "outputs": [
    {
     "name": "stdin",
     "output_type": "stream",
     "text": [
      "enter the list: 1 2 3 4 5 6\n"
     ]
    },
    {
     "name": "stdout",
     "output_type": "stream",
     "text": [
      "maximun sum of 3 consecutive elements is 15\n"
     ]
    }
   ],
   "source": [
    "l=[int(item) for item in (input(\"enter the list:\").split())]\n",
    "\n",
    "max=0\n",
    "for x in range(0,l[-1]-2):\n",
    "    sum=l[x]+l[x+1]+l[x+2]\n",
    "    if(max<sum):\n",
    "        max=sum\n",
    "\n",
    "print(f\"maximun sum of 3 consecutive elements is {max}\")\n",
    "\n"
   ]
  },
  {
   "cell_type": "code",
   "execution_count": 2,
   "id": "3b665e82-4a28-45d3-97d1-95ae17fbe402",
   "metadata": {},
   "outputs": [
    {
     "name": "stdout",
     "output_type": "stream",
     "text": [
      "[4, 12, 21, 22, 32, 32, 34, 34, 567]\n",
      "[567, 34, 34, 32, 32, 22, 21, 12, 4]\n",
      "12\n"
     ]
    }
   ],
   "source": [
    "l=[21,22,32,4,34,567,32,12,34]\n",
    "count=0\n",
    "for i in range(len(l)):\n",
    "    for j in range(len(l) - 1-i):\n",
    "        if l[j] > l[j+1]:\n",
    "           l[j], l[j+1] = l[j+1] ,l[j]\n",
    "           count+=1\n",
    "        \n",
    "\n",
    "print(l)\n",
    "print(l[::-1])\n",
    "print(count)"
   ]
  },
  {
   "cell_type": "code",
   "execution_count": 5,
   "id": "ebe0b1fc-dabe-4b6c-8a38-917cd666d5b7",
   "metadata": {},
   "outputs": [
    {
     "name": "stdout",
     "output_type": "stream",
     "text": [
      "[1, 2, 3, 4, 5, 9]\n"
     ]
    }
   ],
   "source": [
    "l=[4,3,5,2,1,9]\n",
    "for i in range(0,len(l)):\n",
    "    min_idx=i\n",
    "    for j in range(i+1,len(l)):\n",
    "        if l[min_idx]>l[j]:\n",
    "            min_idx=j\n",
    "    temp=l[i]\n",
    "    l[i]=l[min_idx]\n",
    "    l[min_idx]=temp\n",
    "\n",
    "print(l)"
   ]
  },
  {
   "cell_type": "code",
   "execution_count": 1,
   "id": "47dd020f-67bd-4d61-9a72-e4893d3f88db",
   "metadata": {},
   "outputs": [
    {
     "name": "stdout",
     "output_type": "stream",
     "text": [
      "[1, 2, 3, 5, 6, 7, 8, 9]\n"
     ]
    },
    {
     "name": "stdin",
     "output_type": "stream",
     "text": [
      " 8\n"
     ]
    }
   ],
   "source": [
    "l=[1,3,6,2,9,8,7,5,]\n",
    "l.sort()\n",
    "print(l)\n",
    "src=int(input())\n",
    "low=0\n",
    "high=len(l)-1\n",
    "mid=int((low+high)/2)\n",
    "if l[mid]<src:\n",
    "    low=mid+1\n",
    "elif l[mid]>src:\n",
    "    high=mid-1\n",
    "elif mid==src:\n",
    "    print(f\"element{src} found at index {mid}\")\n",
    "else:\n",
    "    print(f\"Element {src} not found in the list.\")\n",
    "    "
   ]
  },
  {
   "cell_type": "code",
   "execution_count": 3,
   "id": "981faba7-72ca-4f30-ae9e-aa2472127c3f",
   "metadata": {},
   "outputs": [
    {
     "name": "stdout",
     "output_type": "stream",
     "text": [
      "invalid string\n"
     ]
    }
   ],
   "source": [
    "string=(\"this (is a string\")\n",
    "x=y=z=0\n",
    "for char in string:\n",
    "    match(char):\n",
    "        case '(':x+=1\n",
    "        case '(':x-=1\n",
    "        case '{':y+=1\n",
    "        case '{':x-=1\n",
    "        case '[':z+=1\n",
    "        case ']':z-=1\n",
    "        case _:continue\n",
    "\n",
    "if (x,y,z) ==1:\n",
    "    print(\"valid string\")\n",
    "else:\n",
    "    print(\"invalid string\")\n",
    "        \n",
    "        "
   ]
  },
  {
   "cell_type": "code",
   "execution_count": 14,
   "id": "6c21d017-527f-43c3-8234-b71de38c7a53",
   "metadata": {},
   "outputs": [
    {
     "name": "stdout",
     "output_type": "stream",
     "text": [
      "[1, 2, 3, 4, 5]\n",
      "[1, 2, 3, 4, 5, 6]\n",
      "6 popped\n",
      "[1, 2, 3, 4, 5]\n",
      "5 popped\n",
      "[1, 2, 3, 4]\n"
     ]
    }
   ],
   "source": [
    "S=[1,2,3,4]\n",
    "def push(e):\n",
    "    S.append(e)\n",
    "    print(S)\n",
    "\n",
    "def pop():\n",
    "    e=S.pop()\n",
    "    print(f'{e} popped')\n",
    "    print(S)\n",
    "\n",
    "\n",
    "push(5)\n",
    "push(6)\n",
    "pop()\n",
    "pop()\n"
   ]
  },
  {
   "cell_type": "code",
   "execution_count": 7,
   "id": "7f43a058-d787-4bb1-b355-4532cb95c0cb",
   "metadata": {},
   "outputs": [
    {
     "name": "stdin",
     "output_type": "stream",
     "text": [
      "1: Add\n",
      "2: Remove\n",
      "Enter your choice:  1\n",
      "Enter the element to add:  it is a string\n"
     ]
    },
    {
     "name": "stdout",
     "output_type": "stream",
     "text": [
      "Stack after adding: ['it is a string']\n"
     ]
    }
   ],
   "source": [
    "s = []\n",
    "\n",
    "def push():\n",
    "    A = input(\"Enter the element to add: \")\n",
    "    s.append(A)\n",
    "    print(s)\n",
    "\n",
    "def pop():\n",
    "    if s:\n",
    "        B = s.pop()\n",
    "        print(\"Popped element:\", B)\n",
    "        \n",
    "    else:\n",
    "        print(\"Stack is empty. Cannot pop.\")\n",
    "\n",
    "ch = input(\"1: Add\\n2: Remove\\nEnter your choice: \")\n",
    "\n",
    "if ch == \"1\":\n",
    "    push()\n",
    "elif ch == \"2\":\n",
    "    pop()\n",
    "else:\n",
    "    print(\"Invalid choice.\")\n"
   ]
  },
  {
   "cell_type": "code",
   "execution_count": 6,
   "id": "b9f95367-7200-4eaf-a893-0a820247f203",
   "metadata": {},
   "outputs": [
    {
     "name": "stdin",
     "output_type": "stream",
     "text": [
      "  (a+b)*c\n"
     ]
    },
    {
     "ename": "TypeError",
     "evalue": "can only concatenate str (not \"builtin_function_or_method\") to str",
     "output_type": "error",
     "traceback": [
      "\u001b[1;31m---------------------------------------------------------------------------\u001b[0m",
      "\u001b[1;31mTypeError\u001b[0m                                 Traceback (most recent call last)",
      "Cell \u001b[1;32mIn[6], line 26\u001b[0m\n\u001b[0;32m     24\u001b[0m \u001b[38;5;28;01melif\u001b[39;00m i\u001b[38;5;241m==\u001b[39m \u001b[38;5;124m'\u001b[39m\u001b[38;5;124m)\u001b[39m\u001b[38;5;124m'\u001b[39m:\n\u001b[0;32m     25\u001b[0m     \u001b[38;5;28;01mwhile\u001b[39;00m s[\u001b[38;5;241m-\u001b[39m\u001b[38;5;241m1\u001b[39m] \u001b[38;5;241m!=\u001b[39m \u001b[38;5;124m'\u001b[39m\u001b[38;5;124m(\u001b[39m\u001b[38;5;124m'\u001b[39m:\n\u001b[1;32m---> 26\u001b[0m         \u001b[43mres\u001b[49m\u001b[43m \u001b[49m\u001b[38;5;241;43m+\u001b[39;49m\u001b[38;5;241;43m=\u001b[39;49m\u001b[43ms\u001b[49m\u001b[38;5;241;43m.\u001b[39;49m\u001b[43mpop\u001b[49m\n\u001b[0;32m     27\u001b[0m     s\u001b[38;5;241m.\u001b[39mpop()\n\u001b[0;32m     29\u001b[0m \u001b[38;5;28;01melse\u001b[39;00m:\n",
      "\u001b[1;31mTypeError\u001b[0m: can only concatenate str (not \"builtin_function_or_method\") to str"
     ]
    }
   ],
   "source": [
    "def precedence(x):\n",
    "    if x=='^':\n",
    "        return 3\n",
    "    elif x=='*' or x=='/' or x=='%':\n",
    "        return 2\n",
    "    elif x=='+' or x=='-':\n",
    "        return 1\n",
    "    else:\n",
    "        return -1\n",
    "\n",
    "def assoc(x):\n",
    "    if x=='^':\n",
    "        return 'R'\n",
    "    else:\n",
    "        return 'L'\n",
    "a=input()\n",
    "s=[\"#\"]\n",
    "res= \"\"\n",
    "for i in a:\n",
    "    if i.isalnum():\n",
    "        res+=i\n",
    "    elif i == '(':\n",
    "        s.append(i)\n",
    "    elif i== ')':\n",
    "        while s[-1] != '(':\n",
    "            res +=s.pop\n",
    "        s.pop()\n",
    "   \n",
    "    else:\n",
    "        while s and (precedence(s[-1]) > precedence(i) or ((precedence(i) == precedence(s[-1])) and assoc(i) == \"L\")):\n",
    "            res += s.pop()\n",
    "        s.append(i)\n",
    "\n",
    "\n",
    "while s[-1]!=\"#\":\n",
    "    res+=s.pop()\n",
    "\n",
    "print(res)\n",
    "\n",
    "    "
   ]
  },
  {
   "cell_type": "code",
   "execution_count": 11,
   "id": "9d8fe9db-98d3-45e2-9f7b-3b8960aab327",
   "metadata": {},
   "outputs": [
    {
     "name": "stdin",
     "output_type": "stream",
     "text": [
      " apple dal rice rice\n"
     ]
    },
    {
     "name": "stdout",
     "output_type": "stream",
     "text": [
      "2 ['apple', 'dal']\n"
     ]
    }
   ],
   "source": [
    "menu=[\"apples\", \"dal\",\"rice\",'rice']\n",
    "food11=[item for item in input().split()]\n",
    "s=[]\n",
    "for food in food11:\n",
    "   if not s:\n",
    "       s.append(food)\n",
    "   elif food==s[-1]:\n",
    "       s.pop()\n",
    "   else:\n",
    "       s.append(food)\n",
    "\n",
    "print(len(s),s)"
   ]
  },
  {
   "cell_type": "code",
   "execution_count": 1,
   "id": "2395387e-1cf5-4790-96cb-8f3b98ce9729",
   "metadata": {},
   "outputs": [
    {
     "name": "stdin",
     "output_type": "stream",
     "text": [
      " (a+b)*c\n"
     ]
    },
    {
     "name": "stdout",
     "output_type": "stream",
     "text": [
      "ab+c*\n"
     ]
    }
   ],
   "source": [
    "def precedence(x):\n",
    "    if x == '^':\n",
    "        return 3\n",
    "    elif x == '*' or x == '/' or x == '%':\n",
    "        return 2\n",
    "    elif x == '+' or x == '-':\n",
    "        return 1\n",
    "    else:\n",
    "        return -1\n",
    "\n",
    "def assoc(x):\n",
    "    if x == '^':\n",
    "        return 'R'\n",
    "    else:\n",
    "        return 'L'\n",
    "\n",
    "a = input()\n",
    "s = ['#']\n",
    "res = \"\"\n",
    "for i in a:\n",
    "    if i.isalnum():\n",
    "        res += i\n",
    "    elif i == '(':\n",
    "        s.append(i)\n",
    "    elif i == ')':\n",
    "        while s[-1] != '(':\n",
    "            res += s.pop()\n",
    "        s.pop()\n",
    "    else:\n",
    "        while s and (precedence(s[-1]) > precedence(i) or ((precedence(i) == precedence(s[-1])) and assoc(i) == \"L\")):\n",
    "            res += s.pop()\n",
    "        s.append(i)\n",
    "\n",
    "while s[-1] != \"#\":\n",
    "    res += s.pop()\n",
    "\n",
    "print(res)\n"
   ]
  },
  {
   "cell_type": "code",
   "execution_count": null,
   "id": "5cf0fe87-931b-453e-a87d-8bed2ffd51eb",
   "metadata": {},
   "outputs": [],
   "source": []
  }
 ],
 "metadata": {
  "kernelspec": {
   "display_name": "Python 3 (ipykernel)",
   "language": "python",
   "name": "python3"
  },
  "language_info": {
   "codemirror_mode": {
    "name": "ipython",
    "version": 3
   },
   "file_extension": ".py",
   "mimetype": "text/x-python",
   "name": "python",
   "nbconvert_exporter": "python",
   "pygments_lexer": "ipython3",
   "version": "3.12.3"
  }
 },
 "nbformat": 4,
 "nbformat_minor": 5
}
