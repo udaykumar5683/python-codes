{
 "cells": [
  {
   "cell_type": "code",
   "execution_count": 1,
   "id": "bba5356a-7474-44b8-b29b-9850c0b5d51b",
   "metadata": {},
   "outputs": [
    {
     "name": "stdin",
     "output_type": "stream",
     "text": [
      "enter your name:  uday\n",
      "enter your age:  21\n"
     ]
    },
    {
     "name": "stdout",
     "output_type": "stream",
     "text": [
      "uday\n",
      "your are eligable to vote\n"
     ]
    }
   ],
   "source": [
    "#if else test\n",
    "name=input(\"enter your name: \")\n",
    "\n",
    "age=int(input(\"enter your age: \"))\n",
    "if age==18:\n",
    "   print (name)\n",
    "   print (\"apply for voter id regestration\")\n",
    "elif age>18 :\n",
    "   print(name)\n",
    "   print(\"your are eligable to vote\")\n",
    "else:\n",
    "   print(name)\n",
    "   print(\"your are not eligable to vote\")"
   ]
  },
  {
   "cell_type": "code",
   "execution_count": 2,
   "id": "2d32f58a-0ce0-4aa2-80c2-04aa16858df8",
   "metadata": {},
   "outputs": [
    {
     "name": "stdin",
     "output_type": "stream",
     "text": [
      " 1\n",
      " 2\n",
      " 3\n"
     ]
    },
    {
     "name": "stdout",
     "output_type": "stream",
     "text": [
      "c is largest:3\n"
     ]
    }
   ],
   "source": [
    "#finding largest no\n",
    "a=int(input())\n",
    "b=int(input())\n",
    "c=int(input())\n",
    "if a>b:\n",
    "    if a>c:\n",
    "        print(f\"a is largest:{a}\")\n",
    "    else:\n",
    "        print(f\"c is largest:{c}\")\n",
    "else:\n",
    "    if b>c:\n",
    "        print(f\"b is largest:{b}\")\n",
    "    else:\n",
    "        print(f\"c is largest:{c}\")"
   ]
  },
  {
   "cell_type": "code",
   "execution_count": 3,
   "id": "469ee7c9-efa1-4a7b-9ca7-be266d943d4f",
   "metadata": {},
   "outputs": [
    {
     "name": "stdin",
     "output_type": "stream",
     "text": [
      "enter your marks:  84\n"
     ]
    },
    {
     "name": "stdout",
     "output_type": "stream",
     "text": [
      " grade A \n"
     ]
    }
   ],
   "source": [
    "#listing marksheet\n",
    "marks=int(input(\"enter your marks: \"))\n",
    "if marks>=90 and marks<=100:\n",
    "          print(\"grade A+\")\n",
    "elif marks>=80 and marks<=90:\n",
    "           print(\" grade A \")\n",
    "elif marks>=70 and marks<=80:\n",
    "           print(\" grade B+\")\n",
    "elif marks>=60 and marks<=70:\n",
    "           print(\" grade B\")\n",
    "elif marks>=50 and marks<=60:\n",
    "           print(\" grade C+\")\n",
    "elif marks>=40 and marks<=50:\n",
    "           print(\" grade C\")\n",
    "elif marks>=30 and marks<=40:\n",
    "           print(\" grade D+\")\n",
    "elif marks>=20 and marks<=30:\n",
    "           print(\" grade D\")\n",
    "elif marks<20:\n",
    "        print(\" fail\")\n",
    "else:\n",
    "    print(\"invalid\")"
   ]
  },
  {
   "cell_type": "code",
   "execution_count": 4,
   "id": "de2a064c-a29b-465f-afd4-fae711fa6784",
   "metadata": {},
   "outputs": [
    {
     "name": "stdin",
     "output_type": "stream",
     "text": [
      "Enetr two numbers 2 4\n",
      "Enter operator:  +\n"
     ]
    },
    {
     "name": "stdout",
     "output_type": "stream",
     "text": [
      "6\n"
     ]
    }
   ],
   "source": [
    "#calculator\n",
    "a,b=input(\"Enetr two numbers\").split()\n",
    "a=int(a)\n",
    "b=int(b)\n",
    "op=input(\"Enter operator: \")\n",
    "match op:\n",
    "    case '+':\n",
    "        print(a+b)\n",
    "    case '-':\n",
    "        print(a-b)\n",
    "    case '*':\n",
    "        print(a*b)\n",
    "    case '/':\n",
    "        print(a/b)\n",
    "    case '^':\n",
    "        print(a**b)\n",
    "    case '%':\n",
    "        print(a%b)\n",
    "    case _:\n",
    "        print(\"Invalid Operator\")"
   ]
  },
  {
   "cell_type": "code",
   "execution_count": 5,
   "id": "98860f07-fc83-42fd-b174-a236335a4fc1",
   "metadata": {},
   "outputs": [
    {
     "name": "stdout",
     "output_type": "stream",
     "text": [
      "\n",
      "$ \n",
      "$ $ \n",
      "$ $ $ \n",
      "$ $ $ $ \n",
      "$ $ $ $ $ \n",
      "$ $ $ $ $ $ \n",
      "$ $ $ $ $ $ $ \n",
      "$ $ $ $ $ $ $ $ \n",
      "$ $ $ $ $ $ $ $ $ \n"
     ]
    }
   ],
   "source": [
    "#printing doller\n",
    "for i in range(10):\n",
    "    print (\"$ \" *i)"
   ]
  },
  {
   "cell_type": "code",
   "execution_count": 6,
   "id": "32785e2c-9627-43a5-9538-3b8d76215365",
   "metadata": {},
   "outputs": [
    {
     "name": "stdout",
     "output_type": "stream",
     "text": [
      "\n",
      "* \n",
      "* * \n",
      "* * * \n",
      "* * * * \n",
      "* * * * * \n",
      "* * * * * * \n",
      "* * * * * * * \n",
      "* * * * * * * * \n",
      "* * * * * * * * * \n",
      "* * * * * * * * * * \n"
     ]
    }
   ],
   "source": [
    "printing star\n",
    "for i in range(11):\n",
    "    op=\"\"\n",
    "    for j in range(i):\n",
    "        op+=\"* \"\n",
    "    print(op)"
   ]
  },
  {
   "cell_type": "code",
   "execution_count": 7,
   "id": "25863ce6-a74a-4219-8186-41415fefb680",
   "metadata": {},
   "outputs": [
    {
     "name": "stdin",
     "output_type": "stream",
     "text": [
      "enter limit: 5\n"
     ]
    },
    {
     "name": "stdout",
     "output_type": "stream",
     "text": [
      "0 1 1 2 3 "
     ]
    }
   ],
   "source": [
    "#fibone\n",
    "limit=int(input(\"enter limit:\"))\n",
    "a=0;\n",
    "b=1;\n",
    "print(a,b,end=\" \")\n",
    "\n",
    "for i in range(0,limit-2):\n",
    "    c=a+b\n",
    "    print(c,end=\" \")\n",
    "    a=b\n",
    "    b=c"
   ]
  },
  {
   "cell_type": "code",
   "execution_count": 9,
   "id": "5a50ac10-ab84-4d2d-a1ac-28cc9c86a6cd",
   "metadata": {},
   "outputs": [
    {
     "name": "stdin",
     "output_type": "stream",
     "text": [
      " 2\n",
      " 3\n"
     ]
    },
    {
     "name": "stdout",
     "output_type": "stream",
     "text": [
      "5\n",
      "-1\n"
     ]
    }
   ],
   "source": [
    "#function\n",
    "def  add(a,b=7):\n",
    "  c=a+b\n",
    "  print(c)\n",
    "  return\n",
    "def sub(a,b):\n",
    "   c=a-b\n",
    "   print(c)\n",
    "   return\n",
    "\n",
    "a=int(input())\n",
    "b=int(input())\n",
    "add(a,b)\n",
    "sub(a,b)"
   ]
  },
  {
   "cell_type": "code",
   "execution_count": null,
   "id": "6299c5d2-11a4-4270-8a2a-499cdfe30f92",
   "metadata": {},
   "outputs": [],
   "source": []
  }
 ],
 "metadata": {
  "kernelspec": {
   "display_name": "Python 3 (ipykernel)",
   "language": "python",
   "name": "python3"
  },
  "language_info": {
   "codemirror_mode": {
    "name": "ipython",
    "version": 3
   },
   "file_extension": ".py",
   "mimetype": "text/x-python",
   "name": "python",
   "nbconvert_exporter": "python",
   "pygments_lexer": "ipython3",
   "version": "3.12.3"
  }
 },
 "nbformat": 4,
 "nbformat_minor": 5
}
