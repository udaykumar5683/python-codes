{
 "cells": [
  {
   "cell_type": "code",
   "execution_count": 5,
   "id": "dcc22558-9ab7-489f-a64b-1eba1b253670",
   "metadata": {},
   "outputs": [
    {
     "name": "stdin",
     "output_type": "stream",
     "text": [
      "Enter a character:  1\n"
     ]
    },
    {
     "name": "stdout",
     "output_type": "stream",
     "text": [
      "1 is a numeric character\n"
     ]
    }
   ],
   "source": [
    "user_input = input(\"Enter a character: \")\n",
    "def identify_character(char):\n",
    "    if char.islower():\n",
    "        print(f\"{char} is a lowercase character\")\n",
    "    elif char.isupper():\n",
    "        print(f\"{char} is an uppercase character\")\n",
    "    elif char.isdigit():\n",
    "        print(f\"{char} is a numeric character\")\n",
    "    else:\n",
    "        print(f\"{char} is a special character\")\n",
    "\n",
    "\n",
    "\n",
    "\n",
    "\n",
    "if len(user_input) == 1:\n",
    "    identify_character(user_input)\n",
    "else:\n",
    "    print(\"Please enter only one character.\")\n"
   ]
  },
  {
   "cell_type": "code",
   "execution_count": 38,
   "id": "eff22365-a302-461d-a2df-c4336b60d1ae",
   "metadata": {},
   "outputs": [
    {
     "name": "stdout",
     "output_type": "stream",
     "text": [
      "1\n",
      "<class 'list'>\n",
      "2\n",
      "<class 'list'>\n",
      "3\n",
      "<class 'list'>\n",
      "4\n",
      "<class 'list'>\n",
      "True\n",
      "False\n"
     ]
    },
    {
     "data": {
      "text/plain": [
       "<enumerate at 0x2493c411d00>"
      ]
     },
     "execution_count": 38,
     "metadata": {},
     "output_type": "execute_result"
    }
   ],
   "source": [
    "li=[1,2,3,4]\n",
    "for i in range(len(li)):\n",
    "    print(li[i])\n",
    "    print(type(li))\n",
    "print(1 in li)\n",
    "print(8 in li)\n",
    "abs(5)\n",
    "all(li)\n",
    "bin(8)\n",
    "enumerate(li)"
   ]
  },
  {
   "cell_type": "code",
   "execution_count": 44,
   "id": "6a3ae20a-9e91-4523-b990-5ffef9b837d7",
   "metadata": {},
   "outputs": [
    {
     "name": "stdout",
     "output_type": "stream",
     "text": [
      "[(0, 'apple'), (1, 'ball'), (2, 'cat')]\n"
     ]
    }
   ],
   "source": [
    "li=[\"apple\",\"ball\",\"cat\"]\n",
    "y=enumerate(li)\n",
    "print(list(y))"
   ]
  },
  {
   "cell_type": "code",
   "execution_count": 52,
   "id": "bc8c266a-20b3-4e85-9ddf-69f7fb6a4606",
   "metadata": {},
   "outputs": [
    {
     "name": "stdout",
     "output_type": "stream",
     "text": [
      "[1, 2, 3, 4, 5, 6, 7, 8]\n"
     ]
    }
   ],
   "source": [
    "a=[1,2,3,4]\n",
    "b=[5,6,7,8]\n",
    "a.extend(b)\n",
    "print(a)"
   ]
  },
  {
   "cell_type": "code",
   "execution_count": 62,
   "id": "cbc77fea-e56b-4e1b-94d9-7bf7cd68db26",
   "metadata": {},
   "outputs": [
    {
     "name": "stdout",
     "output_type": "stream",
     "text": [
      "1\n",
      "2\n",
      "3\n",
      "4\n",
      "5\n"
     ]
    }
   ],
   "source": [
    "a=[1,2,3,4,5]\n",
    "for x in a:\n",
    "   print(x)\n",
    "   "
   ]
  },
  {
   "cell_type": "code",
   "execution_count": 13,
   "id": "1afad37f-b6ba-4446-b299-020f59527668",
   "metadata": {},
   "outputs": [
    {
     "name": "stdin",
     "output_type": "stream",
     "text": [
      "enter no of values: 4\n",
      "no are: 1\n",
      "no are: 2\n",
      "no are: 3\n",
      "no are: 4\n"
     ]
    },
    {
     "name": "stdout",
     "output_type": "stream",
     "text": [
      "[1, 2, 3, 4]\n"
     ]
    }
   ],
   "source": [
    "li=[]\n",
    "x=int(input(\"enter no of values:\"))\n",
    "for i in range(0,x):\n",
    "    a=int(input(\"no are:\"))\n",
    "    li.append(a)\n",
    "\n",
    "print(li)"
   ]
  },
  {
   "cell_type": "code",
   "execution_count": 7,
   "id": "caff3a46-c52d-4086-bb92-02883f1c56a1",
   "metadata": {},
   "outputs": [
    {
     "name": "stdin",
     "output_type": "stream",
     "text": [
      "enter elements 1 2 3 4 5\n"
     ]
    },
    {
     "name": "stdout",
     "output_type": "stream",
     "text": [
      "[5, 4, 3, 2, 1]\n"
     ]
    }
   ],
   "source": [
    "L=[int(item) for item in (input(\"enter elements\").split())][::-1]\n",
    "print(L)"
   ]
  },
  {
   "cell_type": "code",
   "execution_count": 6,
   "id": "4f261a2f-1c36-4765-a857-a150a06f8233",
   "metadata": {},
   "outputs": [
    {
     "name": "stdout",
     "output_type": "stream",
     "text": [
      "(4, 3, 2, 1)\n"
     ]
    }
   ],
   "source": [
    "a=(1,2,3,4)[::-1]\n",
    "print(a)"
   ]
  },
  {
   "cell_type": "code",
   "execution_count": 1,
   "id": "3f32c411-340b-40e9-a918-c4a7f0a7f492",
   "metadata": {},
   "outputs": [
    {
     "name": "stdout",
     "output_type": "stream",
     "text": [
      "m t i b\n"
     ]
    }
   ],
   "source": [
    "a=\"b i t m\"[::-1]\n",
    "print(a)\n",
    "\n",
    "for  x in range(1,1*(len(a)-1),-1):\n",
    "    print(a[x])"
   ]
  },
  {
   "cell_type": "code",
   "execution_count": 6,
   "id": "5173ca62-cde5-4512-b9d2-2cdb7d8c6e8a",
   "metadata": {},
   "outputs": [
    {
     "name": "stdout",
     "output_type": "stream",
     "text": [
      "5 5 4 3 2 1 "
     ]
    }
   ],
   "source": [
    "a=(1,2,3,4,5,5)\n",
    "for  x in range(-1,-1*(len(a)+1),-1):\n",
    "    print(a[x],end=\" \")"
   ]
  },
  {
   "cell_type": "code",
   "execution_count": 5,
   "id": "f34b5c25-eed2-474e-a1d0-a63fdc15547a",
   "metadata": {},
   "outputs": [
    {
     "name": "stdout",
     "output_type": "stream",
     "text": [
      "9 8 7 6 5 4 3 2 1 "
     ]
    }
   ],
   "source": [
    "a=(1,2,3,4,5,6,7,8,9)\n",
    "for x in range(0,len(a)):\n",
    "    print(a[-1*(x+1)],end=\" \")"
   ]
  },
  {
   "cell_type": "code",
   "execution_count": 16,
   "id": "c89c18e2-8b33-4fe0-b25c-920485465179",
   "metadata": {},
   "outputs": [
    {
     "name": "stdout",
     "output_type": "stream",
     "text": [
      "2\n",
      "bbbb\n",
      "<class 'dict'>\n"
     ]
    }
   ],
   "source": [
    "a={1:\"aaaa\",2:\"bbbb\"}\n",
    "print(len(a))\n",
    "print(a[2])\n",
    "print(type(a))\n"
   ]
  },
  {
   "cell_type": "code",
   "execution_count": null,
   "id": "51826e72-1f48-4ae0-ba78-f41eaf371950",
   "metadata": {},
   "outputs": [],
   "source": [
    "#to take key and value as input from user and add it into the dictionay \n",
    "#if key is not present in the dictionary otherwise print key already exist\n",
    "#and also print its corresponding value"
   ]
  },
  {
   "cell_type": "code",
   "execution_count": 2,
   "id": "bba04c67-b00a-412b-8b13-eb11d00f6a66",
   "metadata": {},
   "outputs": [
    {
     "name": "stdin",
     "output_type": "stream",
     "text": [
      "enter keys: 1 2 3 4\n"
     ]
    },
    {
     "name": "stdout",
     "output_type": "stream",
     "text": [
      "already key present\n",
      "value of key :1 id apple\n"
     ]
    },
    {
     "name": "stdin",
     "output_type": "stream",
     "text": [
      "enter value of key:2 : aaaa\n",
      "enter value of key:3 : wwww\n",
      "enter value of key:4 : eeee\n"
     ]
    },
    {
     "name": "stdout",
     "output_type": "stream",
     "text": [
      "{1: 'apple', 2: 'aaaa', 3: 'wwww', 4: 'eeee'}\n"
     ]
    }
   ],
   "source": [
    "d={1:\"apple\"}\n",
    "l=[int(key) for key in input(\"enter keys:\").split()]\n",
    "for i in l:\n",
    "    if i in d:\n",
    "        print(\"already key present\")\n",
    "        print(f\"value of key :{i} id {d[i]}\")\n",
    "    else:\n",
    "        d[i]= input(f\"enter value of key:{i} :\")\n",
    "\n",
    "print(d)"
   ]
  },
  {
   "cell_type": "code",
   "execution_count": 14,
   "id": "9b7af57a-c72d-4bb5-b734-d7292bce7637",
   "metadata": {},
   "outputs": [
    {
     "name": "stdout",
     "output_type": "stream",
     "text": [
      "[1, 2, 3, 4, 5, 6, 7]\n"
     ]
    },
    {
     "name": "stdin",
     "output_type": "stream",
     "text": [
      "enter key : 9\n"
     ]
    },
    {
     "name": "stdout",
     "output_type": "stream",
     "text": [
      "cannot fetech the element\n",
      "value None\n",
      "error handled\n"
     ]
    }
   ],
   "source": [
    "l=[1,2,3,4,5,6,7]\n",
    "print(l)\n",
    "key=int(input(\"enter key :\"))\n",
    "try:\n",
    "    l[key]\n",
    "except:\n",
    "    print(\"cannot fetech the element\")\n",
    "    print(\"value\",None)\n",
    "else:\n",
    "    print(f\"value at [{key}] is {l[key]}\")\n",
    "finally:\n",
    "    print(\"error handled\")"
   ]
  },
  {
   "cell_type": "code",
   "execution_count": 21,
   "id": "833c5369-98c8-4b07-b8be-08745e57d12c",
   "metadata": {},
   "outputs": [
    {
     "name": "stdin",
     "output_type": "stream",
     "text": [
      "enter the list 1 2 3 4 5\n"
     ]
    },
    {
     "name": "stdout",
     "output_type": "stream",
     "text": [
      "[1, 2, 3, 4, 5]\n"
     ]
    },
    {
     "name": "stdin",
     "output_type": "stream",
     "text": [
      "enter key : 4\n"
     ]
    },
    {
     "name": "stdout",
     "output_type": "stream",
     "text": [
      "value at [4] is 5\n",
      "error handled\n"
     ]
    }
   ],
   "source": [
    "l=[int(item) for item in input(\"enter the list\").split()]\n",
    "print(l)\n",
    "key=int(input(\"enter key :\"))\n",
    "try:\n",
    "    l[key]\n",
    "except:\n",
    "    print(\"cannot fetech the element\")\n",
    "    print(\"value\",None)\n",
    "else:\n",
    "    print(f\"value at [{key}] is {l[key]}\")\n",
    "finally:\n",
    "    print(\"error handled\")"
   ]
  },
  {
   "cell_type": "code",
   "execution_count": null,
   "id": "d1661832-27a6-4fec-b6f7-bcd052e0c70a",
   "metadata": {},
   "outputs": [],
   "source": [
    "#write a py pro to find system of all the elements in the list and handle the case it consists of non numric values\n",
    "#"
   ]
  },
  {
   "cell_type": "code",
   "execution_count": 5,
   "id": "83cdeb3a-4014-4532-8972-bbc5018f8239",
   "metadata": {},
   "outputs": [
    {
     "name": "stdout",
     "output_type": "stream",
     "text": [
      "ignoring non numric values\n",
      "ignoring non numric values\n",
      "ignoring non numric values\n",
      "9\n"
     ]
    }
   ],
   "source": [
    "li=[1,2,\"apple\",3,4,\"ball\"]\n",
    "s=0\n",
    "for i in li:\n",
    "    try:\n",
    "        s+=int(li[i])\n",
    "    except:\n",
    "        print(\"ignoring non numric values\")\n",
    "print(s)    \n"
   ]
  },
  {
   "cell_type": "code",
   "execution_count": 7,
   "id": "dbe702e3-36ee-4b05-86f8-12d65a9b0671",
   "metadata": {},
   "outputs": [
    {
     "name": "stdout",
     "output_type": "stream",
     "text": [
      "Ignoring non-numeric value\n",
      "Ignoring non-numeric value\n",
      "10\n"
     ]
    }
   ],
   "source": [
    "li = [1, 2, \"apple\", 3, 4, \"ball\"]\n",
    "s = 0\n",
    "for i in li:\n",
    "    try:\n",
    "        s += int(i)\n",
    "    except :\n",
    "        print(\"Ignoring non-numeric value\")\n",
    "print(s)\n"
   ]
  },
  {
   "cell_type": "code",
   "execution_count": 10,
   "id": "d2556279-b06c-4128-8a1c-0afd3e2858a3",
   "metadata": {},
   "outputs": [
    {
     "name": "stdout",
     "output_type": "stream",
     "text": [
      "The average grade of the students is: 8.333333333333334\n"
     ]
    }
   ],
   "source": [
    "s = {\"AAA\":8.5,\"BBBB\":8.9,\"CCCC\":7.6}\n",
    "t = sum(s.values())\n",
    "n = len(s)\n",
    "if n == 0:\n",
    "    print(\"The dictionary is empty.\")\n",
    "else:\n",
    "    a = t / n\n",
    "    print(f\"The average grade of the students is: {a}\")\n"
   ]
  }
 ],
 "metadata": {
  "kernelspec": {
   "display_name": "Python 3 (ipykernel)",
   "language": "python",
   "name": "python3"
  },
  "language_info": {
   "codemirror_mode": {
    "name": "ipython",
    "version": 3
   },
   "file_extension": ".py",
   "mimetype": "text/x-python",
   "name": "python",
   "nbconvert_exporter": "python",
   "pygments_lexer": "ipython3",
   "version": "3.12.3"
  }
 },
 "nbformat": 4,
 "nbformat_minor": 5
}
