{
 "cells": [
  {
   "cell_type": "code",
   "execution_count": 1,
   "id": "7113d949-d56b-40cc-80a1-b56ff2031921",
   "metadata": {},
   "outputs": [
    {
     "name": "stdin",
     "output_type": "stream",
     "text": [
      " 3\n"
     ]
    },
    {
     "name": "stdout",
     "output_type": "stream",
     "text": [
      "  prime\n"
     ]
    }
   ],
   "source": [
    "a=int(input())\n",
    "flag=0\n",
    "for i in range(2,int(a/2)+1):\n",
    "    if a%i==0 or a%(i+1)==0:\n",
    "        flag=1\n",
    "        break\n",
    "if flag:\n",
    "    print (\" not prime\")\n",
    "else:\n",
    "    print(\"  prime\")\n",
    "    "
   ]
  },
  {
   "cell_type": "code",
   "execution_count": 2,
   "id": "a781fa14-66b5-48c8-b919-02134e7e149c",
   "metadata": {},
   "outputs": [],
   "source": [
    "import  os\n",
    "\n",
    "f=open(\"file1.txt\",'w') \n",
    "f.write(\"hello world\\n\")\n",
    "f.close()"
   ]
  },
  {
   "cell_type": "code",
   "execution_count": 3,
   "id": "96d8f899-5ee9-44ee-8c45-ffec46b037c1",
   "metadata": {},
   "outputs": [],
   "source": [
    "import  os\n",
    "\n",
    "with open(\"file1.txt\",'a') as f:\n",
    "   f.write(\"hello world this is append\\n\")\n",
    "   f.close()"
   ]
  },
  {
   "cell_type": "code",
   "execution_count": 4,
   "id": "dae62cac-d1a4-4a70-9ffb-5f70b21ef3b1",
   "metadata": {},
   "outputs": [
    {
     "name": "stdout",
     "output_type": "stream",
     "text": [
      "hello world\n",
      "hello world this is append\n",
      "\n"
     ]
    }
   ],
   "source": [
    "import  os\n",
    "\n",
    "f=open(\"file1.txt\",'r')\n",
    "files = f.read()\n",
    "print(files)"
   ]
  },
  {
   "cell_type": "code",
   "execution_count": 5,
   "id": "7c7ed808-8959-400e-bbaf-7c0c1ea9d261",
   "metadata": {},
   "outputs": [
    {
     "name": "stdin",
     "output_type": "stream",
     "text": [
      "Enter temperature in Celsius:  100\n"
     ]
    },
    {
     "name": "stdout",
     "output_type": "stream",
     "text": [
      "Temperature in Fahrenheit: 212.0\n"
     ]
    }
   ],
   "source": [
    "c = float(input(\"Enter temperature in Celsius: \"))\n",
    "f = (c * 9/5) + 32\n",
    "print(\"Temperature in Fahrenheit:\", f)\n"
   ]
  },
  {
   "cell_type": "code",
   "execution_count": 6,
   "id": "b57fb696-75c5-4275-99ef-ba4742650e17",
   "metadata": {},
   "outputs": [
    {
     "name": "stdin",
     "output_type": "stream",
     "text": [
      "enter the list: 1 2 3 6 4 7 8 5 4 5 3\n"
     ]
    },
    {
     "name": "stdout",
     "output_type": "stream",
     "text": [
      "second largest no is : 7\n"
     ]
    }
   ],
   "source": [
    "l=[int(item) for item in input(\"enter the list:\").split()]\n",
    "l.sort()\n",
    "print(\"second largest no is :\",l[-2])\n"
   ]
  },
  {
   "cell_type": "code",
   "execution_count": 11,
   "id": "f9181a67-6660-452c-8d84-bb27408edcf4",
   "metadata": {},
   "outputs": [
    {
     "name": "stdin",
     "output_type": "stream",
     "text": [
      "enter the list: 1 1 1 2 2 3 5 6 4 2 1\n"
     ]
    },
    {
     "name": "stdout",
     "output_type": "stream",
     "text": [
      "[1, 1, 1, 2, 2, 3, 5, 6, 4, 2, 1]\n"
     ]
    },
    {
     "name": "stdin",
     "output_type": "stream",
     "text": [
      "enter key : 1\n"
     ]
    },
    {
     "name": "stdout",
     "output_type": "stream",
     "text": [
      "repeate of [1] is [4] times\n",
      "error handled\n"
     ]
    }
   ],
   "source": [
    "l=[int(item) for item in input(\"enter the list:\").split()]\n",
    "print(l)\n",
    "key=int(input(\"enter key :\"))\n",
    "try:\n",
    "    l[key]\n",
    "except:\n",
    "    print(\"cannot fetech the element\")\n",
    "    print(\"value\",None)\n",
    "else:\n",
    "    count=l.count(key)\n",
    "    print(f\"repeate of [{key}] is {[count]} times\")\n",
    "finally:\n",
    "    print(\"error handled\")"
   ]
  },
  {
   "cell_type": "code",
   "execution_count": 12,
   "id": "01c3838a-8755-4e75-a7c9-7cb50d6b37ef",
   "metadata": {},
   "outputs": [
    {
     "name": "stdout",
     "output_type": "stream",
     "text": [
      "Sum of even numbers: 30\n"
     ]
    }
   ],
   "source": [
    "lst = [1, 2, 3, 4, 5, 6, 7, 8, 9, 10]\n",
    "even_sum = 0\n",
    "for num in lst:\n",
    "    if num % 2 == 0:\n",
    "         even_sum += num\n",
    "print(\"Sum of even numbers:\", even_sum)\n"
   ]
  },
  {
   "cell_type": "code",
   "execution_count": 15,
   "id": "e21dd731-ac1f-4918-b3f5-06e57a88e56b",
   "metadata": {},
   "outputs": [
    {
     "name": "stdin",
     "output_type": "stream",
     "text": [
      "enter the list: a e r t u i o h g t v d f\n"
     ]
    },
    {
     "name": "stdout",
     "output_type": "stream",
     "text": [
      "Number of vowels in the string: 5\n"
     ]
    }
   ],
   "source": [
    "l=[str(item) for item in input(\"enter the list:\").split()]\n",
    "s = 0\n",
    "vowels = {'a', 'e', 'i', 'o', 'u', 'A', 'E', 'I', 'O', 'U'}\n",
    "for char in l:\n",
    "   if char in vowels:\n",
    "        s+= 1\n",
    "print(\"Number of vowels in the string:\",s)\n"
   ]
  },
  {
   "cell_type": "code",
   "execution_count": 17,
   "id": "658dc6a3-4e7b-4bb2-9af4-1365281a8940",
   "metadata": {},
   "outputs": [
    {
     "name": "stdin",
     "output_type": "stream",
     "text": [
      "enter the  sentence: men love cars\n"
     ]
    },
    {
     "name": "stdout",
     "output_type": "stream",
     "text": [
      "['men', 'love', 'cars']\n",
      "['cars', 'love', 'men']\n"
     ]
    }
   ],
   "source": [
    "char=[str(item) for item in input(\"enter the  sentence:\").split()]\n",
    "print(char)\n",
    "print(char[::-1])"
   ]
  },
  {
   "cell_type": "code",
   "execution_count": null,
   "id": "ac54ccc8-22ae-438f-bf82-852ee9ffbae8",
   "metadata": {},
   "outputs": [],
   "source": []
  }
 ],
 "metadata": {
  "kernelspec": {
   "display_name": "Python 3 (ipykernel)",
   "language": "python",
   "name": "python3"
  },
  "language_info": {
   "codemirror_mode": {
    "name": "ipython",
    "version": 3
   },
   "file_extension": ".py",
   "mimetype": "text/x-python",
   "name": "python",
   "nbconvert_exporter": "python",
   "pygments_lexer": "ipython3",
   "version": "3.12.3"
  }
 },
 "nbformat": 4,
 "nbformat_minor": 5
}
