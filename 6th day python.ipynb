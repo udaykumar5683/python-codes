{
 "cells": [
  {
   "cell_type": "code",
   "execution_count": 6,
   "id": "ae8e4f0e-6176-404a-b40e-9b6e8970d87d",
   "metadata": {},
   "outputs": [
    {
     "name": "stdout",
     "output_type": "stream",
     "text": [
      "{1: 'car', 2: 'truck'}\n"
     ]
    },
    {
     "name": "stdin",
     "output_type": "stream",
     "text": [
      "enter your choice:  1\n",
      "enter engine power:  500\n",
      "enter register plate:  ka35ggu\n",
      "enter price:  400000\n",
      "enter your color:  red\n",
      "enter your model:  suz\n",
      "enter your seats:  4\n",
      "enter your max speed:  500\n"
     ]
    },
    {
     "name": "stdout",
     "output_type": "stream",
     "text": [
      "engine:500cc \n",
      "register plate:ka35ggu \n",
      "price:400000 \n",
      "color:red\n",
      "type:suz \n",
      " no of seats:4 \n",
      "max speed:500\n"
     ]
    }
   ],
   "source": [
    "class Vehicle:\n",
    "    def __init__(self, e, rp, p, c):\n",
    "        self.engine = e\n",
    "        self.ragplate = rp\n",
    "        self.price = p\n",
    "        self.color = c\n",
    "\n",
    "    def vechiledetails(self):\n",
    "        print(f\"engine:{self.engine}cc \\nregister plate:{self.ragplate} \\nprice:{self.price} \\ncolor:{self.color}\")\n",
    "\n",
    "\n",
    "class Car(Vehicle):\n",
    "    def __init__(self, e, rp, p, c, t, s, ms):\n",
    "        super().__init__(e, rp, p, c)\n",
    "        self.type = t\n",
    "        self.seats = s\n",
    "        self.maxspeed = ms\n",
    "\n",
    "    def detailsofcar(self):\n",
    "        super().vechiledetails()\n",
    "        print(f\"type:{self.type} \\n no of seats:{self.seats} \\nmax speed:{self.maxspeed}\")\n",
    "\n",
    "\n",
    "class Truck(Vehicle):\n",
    "    def __init__(self, e, rp, p, c, a, lc):\n",
    "        super().__init__(e, rp, p, c)\n",
    "        self.axle = a\n",
    "        self.loadcapacity = lc\n",
    "\n",
    "    def detailsoftruck(self):\n",
    "        super().vechiledetails()\n",
    "        print(f\"no of axle:{self.axle} \\nload capacity:{self.loadcapacity}\")\n",
    "\n",
    "\n",
    "if __name__ == \"__main__\":\n",
    "    di = {1: \"car\", 2: \"truck\"}\n",
    "    print(di)\n",
    "    choice = int(input(\"enter your choice: \"))\n",
    "    if choice == 1:\n",
    "        car = Car(\n",
    "            int(input(\"enter engine power: \")),\n",
    "            str(input(\"enter register plate: \")),\n",
    "            int(input(\"enter price: \")),\n",
    "            str(input(\"enter your color: \")),\n",
    "            str(input(\"enter your model: \")),\n",
    "            int(input(\"enter your seats: \")),\n",
    "            int(input(\"enter your max speed: \")),\n",
    "        )\n",
    "        car.detailsofcar()\n",
    "    elif choice == 2:\n",
    "        truck = Truck(\n",
    "            int(input(\"enter engine power: \")),\n",
    "            str(input(\"enter register plate: \")),\n",
    "            int(input(\"enter price: \")),\n",
    "            str(input(\"enter your color: \")),\n",
    "            int(input(\"enter no of axle: \")),\n",
    "            int(input(\"enter load capacity: \")),\n",
    "        )\n",
    "        truck.detailsoftruck()\n",
    "    else:\n",
    "        print(\"Invalid choice\")\n"
   ]
  },
  {
   "cell_type": "code",
   "execution_count": 8,
   "id": "51f2d14a-7612-427a-8543-e211251a9f47",
   "metadata": {},
   "outputs": [
    {
     "name": "stdout",
     "output_type": "stream",
     "text": [
      "{1: 'staff', 2: 'developer', 3: 'manager'}\n"
     ]
    },
    {
     "name": "stdin",
     "output_type": "stream",
     "text": [
      "enter your choice:  1\n",
      "enter staff id:  21\n",
      "enter staff name:  aaaaa\n",
      "enter salary:  20000\n",
      "enter worktype:  cleaaning\n",
      "enter workarea:  belathogadi\n"
     ]
    },
    {
     "name": "stdout",
     "output_type": "stream",
     "text": [
      "employe id:21 \n",
      "employe name:aaaaa \n",
      "employe salary:20000\n",
      "employe worktype:cleaaning,employee work area:belathogadi\n"
     ]
    }
   ],
   "source": [
    "class employee:\n",
    "    def __init__(self, eid, ename, esalary, ):\n",
    "        self.employeid=eid\n",
    "        self.employename=ename\n",
    "        self.employesalary=esalary\n",
    "\n",
    "    def employeedetails(self):\n",
    "        print(f\"employe id:{self.employeid} \\nemploye name:{self.employename} \\nemploye salary:{self.employesalary}\")\n",
    "\n",
    "\n",
    "class staff(employee):\n",
    "    def __init__(self, eid, ename, esalary, wt, wa):\n",
    "        super().__init__(eid, ename, esalary)\n",
    "        self.worktype = wt\n",
    "        self.workarea = wa\n",
    "\n",
    "    def detailsofstaff(self):\n",
    "        super().employeedetails()\n",
    "        print(f\"employe worktype:{self.worktype},employee work area:{self.workarea}\")\n",
    "\n",
    "\n",
    "class developer(employee):\n",
    "    def __init__(self, eid, ename, esalary, m, t, exp):\n",
    "        super().__init__(eid, ename, esalary)\n",
    "        self.module=m\n",
    "        self.tech=t\n",
    "        self.experience=e\n",
    "    def detailsofdeveloper(self):\n",
    "        super().employeedetails()\n",
    "        print(f\"module:{self.module},tech:{self.tech},experience:{self.experience}\")\n",
    "\n",
    "class manager(employee):\n",
    "    def __init__(self, eid, ename, esalary, prj, cn):\n",
    "        super().__init__(eid, ename, esalary)\n",
    "        self.project=p\n",
    "        self.clientname=cn\n",
    "    def detailsofdeveloper(self):\n",
    "        super().employeedetails()\n",
    "        print(f\"project:{self.project},client:{self.clientname}\")\n",
    "\n",
    "    \n",
    "\n",
    "\n",
    "if __name__ == \"__main__\":\n",
    "    di = {1: \"staff\", 2: \"developer\" , 3:\"manager\"}\n",
    "    print(di)\n",
    "    choice = int(input(\"enter your choice: \"))\n",
    "    if choice == 1:\n",
    "        staff = staff(\n",
    "            int(input(\"enter staff id: \")),\n",
    "            str(input(\"enter staff name: \")),\n",
    "            int(input(\"enter salary: \")),\n",
    "            str(input(\"enter worktype: \")),\n",
    "            str(input(\"enter workarea: \")),\n",
    "            )\n",
    "        staff.detailsofstaff()\n",
    "    elif choice == 2:\n",
    "        developer = developer(\n",
    "            int(input(\"enter developer id: \")),\n",
    "            str(input(\"enter developer name: \")),\n",
    "            int(input(\"enter salary: \")),\n",
    "            int(input(\"enter module: \")),\n",
    "            str(input(\"enter tech: \")),\n",
    "            int(input(\"enter experience: \")),\n",
    "            \n",
    "        )\n",
    "        truck.detailsofdeveloper()\n",
    "    elif choice == 3:\n",
    "        manager = manager(\n",
    "            int(input(\"enter manager id: \")),\n",
    "            str(input(\"enter manager name: \")),\n",
    "            int(input(\"enter salary: \")),\n",
    "            int(input(\"enter project: \")),\n",
    "            str(input(\"enter client name: \")),\n",
    "        )\n",
    "        truck.detailsofmanager()\n",
    "   "
   ]
  },
  {
   "cell_type": "code",
   "execution_count": 19,
   "id": "31fdf5fd-68e7-477b-a9df-92e6e4cea77a",
   "metadata": {},
   "outputs": [
    {
     "name": "stdout",
     "output_type": "stream",
     "text": [
      "* * * * * * \n",
      "*         * \n",
      "*         * \n",
      "*         * \n",
      "*         * \n",
      "* * * * * * \n"
     ]
    }
   ],
   "source": [
    "  for i in range(1, 7):\n",
    "      for j in range(1,7):\n",
    "          if i==1 or j==1 or i==6 or j==6:\n",
    "              print(\"* \",end=\"\") \n",
    "          else:\n",
    "              print(\"  \",end='')\n",
    "      print()"
   ]
  },
  {
   "cell_type": "code",
   "execution_count": 21,
   "id": "5829c277-9adc-492f-9be5-2eecb17f5c79",
   "metadata": {},
   "outputs": [
    {
     "name": "stdout",
     "output_type": "stream",
     "text": [
      "\n",
      "1 \n",
      "0 1 \n",
      "1 0 1 \n",
      "0 1 0 1 \n"
     ]
    }
   ],
   "source": [
    "for i in range(5):\n",
    "    for j in range(i):\n",
    "        if (i+j)%2==0:\n",
    "            print(\"0 \",end='')\n",
    "        else:\n",
    "            print(\"1 \",end='')\n",
    "    print()"
   ]
  },
  {
   "cell_type": "code",
   "execution_count": 12,
   "id": "7023cfc2-30c9-490c-b03e-3595314cf59b",
   "metadata": {},
   "outputs": [
    {
     "name": "stdout",
     "output_type": "stream",
     "text": [
      "* * * * * * \n",
      "* * * * * * \n",
      "* * * * * * \n",
      "* * * * * * \n",
      "* * * * * * \n",
      "* * * * * * \n"
     ]
    }
   ],
   "source": [
    "for i in range(6):\n",
    "    for j in range(6):\n",
    "        print(\"* \",end='')\n",
    "    print()"
   ]
  },
  {
   "cell_type": "code",
   "execution_count": 3,
   "id": "170ce08e-4464-4437-8e3a-e23aef40257d",
   "metadata": {},
   "outputs": [
    {
     "name": "stdout",
     "output_type": "stream",
     "text": [
      "* * * * * \n",
      "* * * * \n",
      "* * * \n",
      "* * \n",
      "* \n"
     ]
    }
   ],
   "source": [
    "for i in range(5):\n",
    "    for j in range(i,j+1):\n",
    "        print(\"* \",end='')\n",
    "    print()"
   ]
  },
  {
   "cell_type": "code",
   "execution_count": 16,
   "id": "e566cd2d-066e-407f-8e9e-5b667d028455",
   "metadata": {},
   "outputs": [
    {
     "name": "stdout",
     "output_type": "stream",
     "text": [
      "* \n",
      "* * \n",
      "* * * \n",
      "* * * * \n",
      "* * * * * \n"
     ]
    }
   ],
   "source": [
    "for i in range(5):\n",
    "    for j in range(i+1):\n",
    "        print(\"* \",end='')\n",
    "    print()"
   ]
  },
  {
   "cell_type": "code",
   "execution_count": 24,
   "id": "1b1af3b8-d229-4628-a637-4f4b6e15017b",
   "metadata": {},
   "outputs": [
    {
     "name": "stdout",
     "output_type": "stream",
     "text": [
      "\n",
      "1 \n",
      "1 2 \n",
      "1 2 3 \n",
      "1 2 3 4 \n"
     ]
    }
   ],
   "source": [
    "for i in range(5):\n",
    "    for j in range(1,i+1):\n",
    "        print( j ,end=' ')\n",
    "    print()"
   ]
  },
  {
   "cell_type": "code",
   "execution_count": 39,
   "id": "19bfce19-db0c-41f3-979e-4ffe96a815ef",
   "metadata": {},
   "outputs": [
    {
     "name": "stdout",
     "output_type": "stream",
     "text": [
      "1 2 3 4 \n",
      "1 2 3 \n",
      "1 2 \n",
      "1 \n"
     ]
    }
   ],
   "source": [
    "for i in range(1,5):\n",
    "    for j in range(i,5):\n",
    "        print( (j-i+1) ,end=' ')\n",
    "    print()"
   ]
  },
  {
   "cell_type": "code",
   "execution_count": 17,
   "id": "058197dd-1241-48c4-aa14-df95602fe1d5",
   "metadata": {},
   "outputs": [
    {
     "name": "stdout",
     "output_type": "stream",
     "text": [
      "* * * * * \n",
      "* * * * \n",
      "* * * \n",
      "* * \n",
      "* \n",
      "* * \n",
      "* * * \n",
      "* * * * \n",
      "* * * * * \n"
     ]
    }
   ],
   "source": [
    "for i in range(5):\n",
    "    for j in range(i,j+1):\n",
    "        print(\"* \",end='')\n",
    "    print()\n",
    "\n",
    "for i in range(1,5):\n",
    "    for j in range(i+1):\n",
    "        print(\"* \",end='')\n",
    "    print()"
   ]
  },
  {
   "cell_type": "code",
   "execution_count": 20,
   "id": "ff3f022b-686e-4923-8585-e60b273a1bc5",
   "metadata": {},
   "outputs": [
    {
     "name": "stdout",
     "output_type": "stream",
     "text": [
      "\n",
      "1 \n",
      "2 3 \n",
      "4 5 6 \n",
      "7 8 9 10 \n"
     ]
    }
   ],
   "source": [
    "num=0\n",
    "for i in range(5):\n",
    "    for j in range(i):\n",
    "        num=num+1\n",
    "        print(num,end=' ')\n",
    "    print()"
   ]
  },
  {
   "cell_type": "code",
   "execution_count": 21,
   "id": "09379c08-2d1c-4b5c-a241-487fc9a2fc22",
   "metadata": {},
   "outputs": [
    {
     "name": "stdout",
     "output_type": "stream",
     "text": [
      "        1 \n",
      "      2 2 2 \n",
      "    3 3 3 3 3 \n",
      "  4 4 4 4 4 4 4 \n",
      "5 5 5 5 5 5 5 5 5 \n"
     ]
    }
   ],
   "source": [
    "rows = 5\n",
    "for i in range(1, rows + 1):\n",
    "    for j in range(rows - i):\n",
    "        print(\" \", end=\" \")\n",
    "    for j in range(2 * i - 1):\n",
    "        print(i, end=\" \")\n",
    "    print()"
   ]
  },
  {
   "cell_type": "code",
   "execution_count": 23,
   "id": "0f46b630-e9f1-4b5b-a6f1-dd3d93b17abd",
   "metadata": {},
   "outputs": [
    {
     "name": "stdout",
     "output_type": "stream",
     "text": [
      "        * \n",
      "      * * * \n",
      "    * * * * * \n",
      "  * * * * * * * \n",
      "* * * * * * * * * \n"
     ]
    }
   ],
   "source": [
    "rows = 5\n",
    "for i in range(1, rows + 1):\n",
    "    for j in range(rows - i):\n",
    "        print(\" \", end=\" \")\n",
    "    for j in range(2 * i - 1):\n",
    "        print(\"*\", end=\" \")\n",
    "    print()"
   ]
  },
  {
   "cell_type": "code",
   "execution_count": 29,
   "id": "4bee41e1-d24e-4234-8565-0914ba54b035",
   "metadata": {},
   "outputs": [
    {
     "name": "stdout",
     "output_type": "stream",
     "text": [
      "                * * * \n",
      "                  * * * * * \n",
      "                    * * * * * * * \n",
      "                      * * * * * * * * * \n"
     ]
    }
   ],
   "source": [
    "rows = 5\n",
    "for i in range(1, rows ):\n",
    "    for j in range(rows + i+2):\n",
    "        print(\" \", end=\" \")\n",
    "    for j in range(2 * i + 1):\n",
    "        print(\"*\", end=\" \")\n",
    "    print()"
   ]
  },
  {
   "cell_type": "code",
   "execution_count": null,
   "id": "dbbee559-a4fd-4bc8-93ee-79b955fc9803",
   "metadata": {},
   "outputs": [],
   "source": []
  }
 ],
 "metadata": {
  "kernelspec": {
   "display_name": "Python 3 (ipykernel)",
   "language": "python",
   "name": "python3"
  },
  "language_info": {
   "codemirror_mode": {
    "name": "ipython",
    "version": 3
   },
   "file_extension": ".py",
   "mimetype": "text/x-python",
   "name": "python",
   "nbconvert_exporter": "python",
   "pygments_lexer": "ipython3",
   "version": "3.12.3"
  }
 },
 "nbformat": 4,
 "nbformat_minor": 5
}
