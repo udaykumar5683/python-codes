{
 "cells": [
  {
   "cell_type": "code",
   "execution_count": 7,
   "id": "e4152065-01eb-4b5f-80bc-a5d6426fc242",
   "metadata": {},
   "outputs": [
    {
     "name": "stdout",
     "output_type": "stream",
     "text": [
      "config of laptop is:\n",
      "processor i5\n",
      "ram 8\n",
      "storage 512\n"
     ]
    }
   ],
   "source": [
    "class laptop:\n",
    "   def __init__(self,p,r,s):\n",
    "       self.processor=p\n",
    "       self.ram=r\n",
    "       self.storage=s\n",
    "\n",
    "   def config(self):\n",
    "       print(\"config of laptop is:\")\n",
    "       print(\"processor\",self.processor)\n",
    "       print(\"ram\",self.ram)\n",
    "       print(\"storage\",self.storage)\n",
    "\n",
    "if __name__==\"__main__\":\n",
    "    hp = laptop(\"i5\",8,512)\n",
    "    hp.config()\n",
    "       \n",
    "        "
   ]
  },
  {
   "cell_type": "code",
   "execution_count": 11,
   "id": "3898b5af-c0c9-416e-b68a-a1fb8c5146e8",
   "metadata": {},
   "outputs": [
    {
     "name": "stdout",
     "output_type": "stream",
     "text": [
      "details of student marks:\n",
      "maths marks= 50\n",
      "oop marks= 50\n",
      "os marks= 50\n",
      "dsa marks= 50\n",
      "java marks= 50\n",
      "Average marks: 50.0\n"
     ]
    }
   ],
   "source": [
    "class student:\n",
    "    def __init__(self,m,oop,os,dsa,java):\n",
    "        self.maths=m\n",
    "        self.object =oop\n",
    "        self.operatingsystem=os\n",
    "        self.datastructure=dsa\n",
    "        self.java=java\n",
    "    def marks(self):\n",
    "        print(\"details of student marks:\")\n",
    "        print(\"maths marks=\",self.maths)\n",
    "        print(\"oop marks=\",self.object)\n",
    "        print(\"os marks=\",self.operatingsystem)\n",
    "        print(\"dsa marks=\",self.datastructure)\n",
    "        print(\"java marks=\",self.java)\n",
    "    def avg(self):\n",
    "        avg = (self.maths + self.object + self.operatingsystem + self.datastructure + self.java) / 5\n",
    "        print(\"Average marks:\", avg)\n",
    "if __name__==\"__main__\":\n",
    "    aaa = student(50,50,50,50,50)\n",
    "    aaa.marks()\n",
    "    aaa.avg()\n",
    "        "
   ]
  },
  {
   "cell_type": "code",
   "execution_count": 3,
   "id": "5adda91c-4390-4ddb-8f19-9b59c918f5d5",
   "metadata": {},
   "outputs": [
    {
     "name": "stdout",
     "output_type": "stream",
     "text": [
      "this is fun1\n",
      "this is fun2\n",
      "this is fun3\n",
      "this is fun4\n"
     ]
    }
   ],
   "source": [
    "class a:\n",
    "    def fun1(self):\n",
    "        print(\"this is fun1\")\n",
    "    def fun2(self):\n",
    "        print(\"this is fun2\")\n",
    "class b:\n",
    "    def fun3(self):\n",
    "        print(\"this is fun3\")\n",
    "    def fun4(self):\n",
    "        print(\"this is fun4\")\n",
    "if __name__==\"__main__\":\n",
    "    ob1=a()\n",
    "    ob2=b()\n",
    "    \n",
    "    ob1.fun1()\n",
    "    ob1.fun2()\n",
    "    ob2.fun3()\n",
    "    ob2.fun4()    "
   ]
  },
  {
   "cell_type": "code",
   "execution_count": 12,
   "id": "02502a87-8e41-446c-af0d-6bf10d1c869f",
   "metadata": {},
   "outputs": [
    {
     "name": "stdout",
     "output_type": "stream",
     "text": [
      "professional laptop having 6hrs i5 8 512\n",
      "gaming laptop having 2 i5 8 512\n"
     ]
    }
   ],
   "source": [
    "class laptop:\n",
    "   def __init__(self, p, r, s):\n",
    "       self.processor = p\n",
    "       self.ram = r\n",
    "       self.storage = s\n",
    "\n",
    "class prof_lap(laptop):\n",
    "    def __init__(self, p, r, s, battery):\n",
    "        self.battery = battery\n",
    "        super().__init__(p, r, s)\n",
    "        \n",
    "class gaming_lap(laptop):\n",
    "    def __init__(self, graph, p, r, s):\n",
    "        self.graph = graph\n",
    "        super().__init__(p, r, s)\n",
    "\n",
    "pro1 = prof_lap(\"i5\", 8, 512, \"6hrs\")\n",
    "gam1 = gaming_lap(2, \"i5\", 8, 512)\n",
    "\n",
    "print(\"professional laptop having\", pro1.battery, pro1.processor, pro1.ram, pro1.storage)\n",
    "print(\"gaming laptop having\", gam1.graph, gam1.processor, gam1.ram, gam1.storage)\n"
   ]
  },
  {
   "cell_type": "code",
   "execution_count": 8,
   "id": "8f8c46ab-fe4c-4848-a64e-f7c87e66d44d",
   "metadata": {},
   "outputs": [
    {
     "name": "stdout",
     "output_type": "stream",
     "text": [
      "Ticket booked. Fare Price will be: 6550\n"
     ]
    }
   ],
   "source": [
    "class Ticket:\n",
    "    def __init__(self, D):\n",
    "        self.distance = int(D)\n",
    "        self.farePrice = None\n",
    "\n",
    "class General(Ticket):\n",
    "    def __init__(self, D):\n",
    "        super().__init__(D)\n",
    "\n",
    "    def print_ticket(self):\n",
    "        self.farePrice = 50 + (self.distance * 2)\n",
    "        return self.farePrice\n",
    "\n",
    "class Sleeper(General):\n",
    "    def __init__(self, D):\n",
    "        super().__init__(D)\n",
    "\n",
    "    def print_ticket(self):\n",
    "        self.farePrice = super().print_ticket() + (2 * self.distance)\n",
    "        return self.farePrice\n",
    "\n",
    "class AC(Sleeper):\n",
    "    def __init__(self, D):\n",
    "        super().__init__(D)\n",
    "\n",
    "    def print_ticket(self):\n",
    "        self.farePrice = super().print_ticket() + (4 * self.distance)\n",
    "        return self.farePrice\n",
    "\n",
    "class FirstClass(AC):\n",
    "    def __init__(self, D):\n",
    "        super().__init__(D)\n",
    "\n",
    "    def print_ticket(self):\n",
    "        self.farePrice = super().print_ticket() + (5 * self.distance)\n",
    "        return self.farePrice\n",
    "\n",
    "jur = FirstClass(500)\n",
    "print(\"Ticket booked. Fare Price will be:\", jur.print_ticket())\n"
   ]
  },
  {
   "cell_type": "code",
   "execution_count": null,
   "id": "f87db2b1-a658-4276-8fc1-2c0a2b016e61",
   "metadata": {},
   "outputs": [],
   "source": []
  }
 ],
 "metadata": {
  "kernelspec": {
   "display_name": "Python 3 (ipykernel)",
   "language": "python",
   "name": "python3"
  },
  "language_info": {
   "codemirror_mode": {
    "name": "ipython",
    "version": 3
   },
   "file_extension": ".py",
   "mimetype": "text/x-python",
   "name": "python",
   "nbconvert_exporter": "python",
   "pygments_lexer": "ipython3",
   "version": "3.12.3"
  }
 },
 "nbformat": 4,
 "nbformat_minor": 5
}
